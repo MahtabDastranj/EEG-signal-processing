{
 "cells": [
  {
   "metadata": {},
   "cell_type": "markdown",
   "source": [
    "For files with `.set` format, we must use load existing dataset option. For other files with any format except `.set`, import data option must be applied.\n",
    "\n",
    "We can download extensions of various formats by going to file -> import data -> Using eeglab functions and plugins in the application or surf through https://sccn.ucsd.edu/eeglab/plugin_uploader/plugin_list_all.php to download wider range of extensions.\n",
    "The downloaded extension must be copied to the plugins file of the main eeglab file.\n",
    "\n",
    "For clearing dataset: file -> clear datasets"
   ],
   "id": "6ec901fb6ca47c11"
  },
  {
   "metadata": {},
   "cell_type": "markdown",
   "source": [
    "As the sampling frequency arises, the required time for computation as well as the required storage increases. However, a low fs, makes the reconstruction infeasible.\n",
    " \n",
    "**Nyquist theorem:**\n",
    "\n",
    "$$f_s > 2 \\times f$$\n",
    "\n",
    "- Where $f$ is the maximum frequency observed in signal.\n",
    "\n",
    "for n amount of events on the signal, we can have maximum n number of epochs.\n",
    "\n",
    "Frame per epoch: Number of samples available in each epoch.$$Frame~per~epoch = epoch~length~(sec) \\times f_s$$"
   ],
   "id": "8e0e7ecc189b5f94"
  },
  {
   "metadata": {},
   "cell_type": "markdown",
   "source": [
    "For plotting the signal: plot -> channel data\n",
    "\n",
    "The `>` icon moves forward in 1sec. The `>>` icon moves in a window by each click. \n",
    "\n",
    "To change the window length: setting -> time range to display\n",
    "\n",
    "To changed number of shown channels each time: setting -> number of channels to display\n",
    "\n",
    "On the GUI screen, there is a glitch threshold amount which can be adjusted. \n",
    "- This glitch amount helps us to distinguish hypothetical noise occurrence if we detect high changes with the appointed threshold. EEG signal amplitude varies from 0 to 100$\\mu v$. *The glitch threshold often varies from 50 to 100$\\mu v$.*"
   ],
   "id": "25ee85b9f0ecfe90"
  }
 ],
 "metadata": {
  "kernelspec": {
   "display_name": "Python 3",
   "language": "python",
   "name": "python3"
  },
  "language_info": {
   "codemirror_mode": {
    "name": "ipython",
    "version": 2
   },
   "file_extension": ".py",
   "mimetype": "text/x-python",
   "name": "python",
   "nbconvert_exporter": "python",
   "pygments_lexer": "ipython2",
   "version": "2.7.6"
  }
 },
 "nbformat": 4,
 "nbformat_minor": 5
}

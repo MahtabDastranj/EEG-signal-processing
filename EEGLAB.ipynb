{
 "cells": [
  {
   "metadata": {},
   "cell_type": "markdown",
   "source": "Authority : Golnaz Baghdadi",
   "id": "cc1f738fee7ae3a9"
  },
  {
   "metadata": {},
   "cell_type": "markdown",
   "source": [
    "For files with `.set` format, we must use load existing dataset option. For other files with any format except `.set`, import data option must be applied.\n",
    "\n",
    "We can download extensions of various formats by going to file -> import data -> Using eeglab functions and plugins in the application or surf through https://sccn.ucsd.edu/eeglab/plugin_uploader/plugin_list_all.php to download wider range of extensions.\n",
    "The downloaded extension must be copied to the plugins file of the main eeglab file.\n",
    "\n",
    "For clearing dataset: file -> clear datasets"
   ],
   "id": "6ec901fb6ca47c11"
  },
  {
   "metadata": {},
   "cell_type": "markdown",
   "source": [
    "As the sampling frequency arises, the required time for computation as well as the required storage increases. However, a low fs, makes the reconstruction infeasible.\n",
    " \n",
    "**Nyquist theorem:**\n",
    "\n",
    "$$f_s > 2 \\times f$$\n",
    "\n",
    "- Where $f$ is the maximum frequency observed in signal.\n",
    "\n",
    "for n amount of events on the signal, we can have maximum n number of epochs.\n",
    "\n",
    "Frame per epoch: Number of samples available in each epoch.$$Frame~per~epoch = epoch~length~(sec) \\times f_s$$"
   ],
   "id": "8e0e7ecc189b5f94"
  },
  {
   "metadata": {},
   "cell_type": "markdown",
   "source": [
    "For plotting the signal: plot -> channel data\n",
    "\n",
    "The `>` icon moves forward in 1sec. The `>>` icon moves in a window by each click. \n",
    "\n",
    "To change the window length: setting -> time range to display\n",
    "\n",
    "To changed number of shown channels each time: setting -> number of channels to display\n",
    "\n",
    "On the GUI screen, there is a glitch threshold amount which can be adjusted. \n",
    "- This glitch amount helps us to distinguish hypothetical noise occurrence, if we detect high changes within the appointed threshold. EEG signal amplitude varies from 0 to 100$\\mu v$. *The glitch threshold often varies from 50 to 100$\\mu v$.*"
   ],
   "id": "25ee85b9f0ecfe90"
  },
  {
   "metadata": {},
   "cell_type": "markdown",
   "source": "## Channel settings",
   "id": "2f8efe63714244fb"
  },
  {
   "metadata": {},
   "cell_type": "markdown",
   "source": [
    "Channel locations must be set to yes before any further steps.\n",
    "\n",
    "If its label is : \n",
    "- No (labels only), it means that you can see which signal is dedicated to which channel by plotting it, however the spatial coordination stays unknown.\n",
    "  - In this case, do the following process:\n",
    "    - Edit, channel locations, cancel. The following window will open:   \n",
    "        - Go to the eeglab folder, sample_locs, find the desired `.locs` file according to how many EEg channels you own. If the demanded number of channels isn't observed, select the lowest one with higher number.\n",
    "                - Change the sequence of channels according to the order of your data's channel. In the end, save the file with `.locs` format. Press read locations icon, auto find, okay.\n",
    "                        \n",
    "![3](images/3.png)\n",
    "\n",
    "- No, it means no knowledge of neither is available.\n",
    "\n",
    "![1](images/1.png)\n",
    "\n",
    "In the image above, you can see a high noise in the beginning. This occurs due to the device connecting and the process starting. The amplitude reduces to the baseline gradually. This part must be cut and removed.\n",
    "\n",
    "For brain studies, channels which are not about EEG like  ECG, EOG etc., must be excluded. For such purpose, click on Edit then select data:\n",
    "\n",
    "![2](images/2.png)\n"
   ],
   "id": "7088e89e0f0a7057"
  },
  {
   "metadata": {},
   "cell_type": "markdown",
   "source": "## Data selection ",
   "id": "117fd15d33aae40d"
  },
  {
   "metadata": {},
   "cell_type": "markdown",
   "source": [
    "In some cases, It might be necessary to exclude some part of our data:\n",
    "1. A noisy channel\n",
    "2. Beginning and ending of the signal to include baseline in the study only.\n",
    "3. All the signal except one or more windows\n",
    "\n",
    "- You should note that this changes must be applied to all samples (participants).\n",
    "\n",
    "To do so: Edit then select data.\n",
    "\n",
    "![4](images/4.png)\n",
    "\n",
    "The first 2 rows of the image above, do the same thing. If you want to work with the second row, the desired time values must be multiplied by the sampling rate. However, in order to prevent manual errors, working with time values is recommended."
   ],
   "id": "539770b3d301e55"
  },
  {
   "metadata": {},
   "cell_type": "markdown",
   "source": "## Referencing",
   "id": "3bde933ef6cd675f"
  },
  {
   "metadata": {},
   "cell_type": "markdown",
   "source": [
    "EEG electrode are measured by reference electrodes. These electrodes are often placed on locations where brain activity is minimized, like ears or nose. Thus, it helps to remove common noises. When we subtract an EEG channel containing a noise from this reference, mainly with the same noise, the outcome will be a purer version of that signal. \n",
    "\n",
    "Reference electrode selection can have an impact on the extracted features and algorithms and depends on:\n",
    "1. Task\n",
    "2. experiment design \n",
    "3. Utilized EEG system\n",
    "\n",
    "By selecting different references, we must ensure consistency and stability of our results.\n",
    "\n",
    "![5](images/5.png)\n",
    "\n",
    "**Linked mastoids (ears:): A1-A2**:\n",
    "- Pros:\n",
    "  1. It can partly remove noises.\n",
    "  2. Global characteristics of the signal are preserved despite noise removal. \n",
    "- Cons:\n",
    "  1. Requires 2 electrodes.\n",
    "  2. Some noises stay included"
   ],
   "id": "db1d57914f97d4a0"
  }
 ],
 "metadata": {
  "kernelspec": {
   "display_name": "Python 3",
   "language": "python",
   "name": "python3"
  },
  "language_info": {
   "codemirror_mode": {
    "name": "ipython",
    "version": 2
   },
   "file_extension": ".py",
   "mimetype": "text/x-python",
   "name": "python",
   "nbconvert_exporter": "python",
   "pygments_lexer": "ipython2",
   "version": "2.7.6"
  }
 },
 "nbformat": 4,
 "nbformat_minor": 5
}

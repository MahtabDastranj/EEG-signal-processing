{
 "cells": [
  {
   "metadata": {},
   "cell_type": "markdown",
   "source": [
    "For files with `.set` format, we must use load existing dataset option. For other files with any format except `.set`, import data option must be applied.\n",
    "\n",
    "We can download extensions of various formats by going to file -> import data -> Using eeglab functions and plugins in the application or surf through https://sccn.ucsd.edu/eeglab/plugin_uploader/plugin_list_all.php to download wider range of extensions.\n",
    "The downloaded extension must be copied to the plugins file of the main eeglab file.\n",
    "\n",
    "For clearing dataset: file -> clear datasets"
   ],
   "id": "6ec901fb6ca47c11"
  },
  {
   "metadata": {},
   "cell_type": "markdown",
   "source": [
    "As the sampling frequency arises, the required time for computation as well as the required storage increases. However, a low fs, makes the reconstruction infeasible.\n",
    " \n",
    "**Nyquist theorem:**\n",
    "\n",
    "$$f_s > 2 \\times f$$\n",
    "\n",
    "- Where $f$ is the maximum frequency observed in signal.\n",
    "\n",
    "for n amount of events on the signal, we can have maximum n number of epochs.\n",
    "\n",
    "Frame per epoch: Number of samples available in each epoch.$$Frame~per~epoch = epoch~length~(sec) \\times f_s$$"
   ],
   "id": "8e0e7ecc189b5f94"
  },
  {
   "metadata": {},
   "cell_type": "markdown",
   "source": [
    "For plotting the signal: plot -> channel data\n",
    "\n",
    "The `>` icon moves forward in 1sec. The `>>` icon moves in a window by each click. \n",
    "\n",
    "To change the window length: setting -> time range to display\n",
    "\n",
    "To changed number of shown channels each time: setting -> number of channels to display\n",
    "\n",
    "On the GUI screen, there is a glitch threshold amount which can be adjusted. \n",
    "- This glitch amount helps us to distinguish hypothetical noise occurrence, if we detect high changes within the appointed threshold. EEG signal amplitude varies from 0 to 100$\\mu v$. *The glitch threshold often varies from 50 to 100$\\mu v$.*"
   ],
   "id": "25ee85b9f0ecfe90"
  },
  {
   "metadata": {},
   "cell_type": "markdown",
   "source": [
    "Channel locations must be set to yes before any further steps.\n",
    "\n",
    "If its label is : \n",
    "- No (labels only), it means that you can see which signal is dedicated to which channel by plotting it, however the spatial coordination stays unknown.\n",
    "  - In this case, do the following process:\n",
    "    - Edit, channel locations, cancel. The following window will open: ![3](images/1.png)\n",
    "        - Go to the eeglab folder, sample_locs, find the desired `.locs` file according to how many EEg channels you own. If the demanded number of channels isn't observed, select the lowest one with higher number.\n",
    "                - Change the sequence of channels according to the order of your data's channel. In the end, save the file with `.locs` format.\n",
    "- No, it means no knowledge of neither is available.\n",
    "\n",
    "![1](images/1.png)\n",
    "\n",
    "In the image above, you can see a high noise in the beginning. This occurs due to the device connecting and the process starting. The amplitude reduces to the baseline gradually. This part must be cut and removed.\n",
    "\n",
    "For brain studies, channels which are not about EEG like  ECG, EOG etc., must be excluded. For such purpose, click on Edit then select data:\n",
    "![2](images/2.png)\n"
   ],
   "id": "7088e89e0f0a7057"
  },
  {
   "metadata": {},
   "cell_type": "markdown",
   "source": " ",
   "id": "117fd15d33aae40d"
  }
 ],
 "metadata": {
  "kernelspec": {
   "display_name": "Python 3",
   "language": "python",
   "name": "python3"
  },
  "language_info": {
   "codemirror_mode": {
    "name": "ipython",
    "version": 2
   },
   "file_extension": ".py",
   "mimetype": "text/x-python",
   "name": "python",
   "nbconvert_exporter": "python",
   "pygments_lexer": "ipython2",
   "version": "2.7.6"
  }
 },
 "nbformat": 4,
 "nbformat_minor": 5
}
